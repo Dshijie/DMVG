{
 "cells": [
  {
   "cell_type": "code",
   "execution_count": 1,
   "id": "c361dd21-787b-4560-9b78-f0af94677889",
   "metadata": {},
   "outputs": [],
   "source": [
    "import scipy.io as io\n",
    "import numpy as np\n",
    "from tqdm import tqdm\n",
    "import argparse\n",
    "from einops import rearrange, repeat\n",
    "import torch\n",
    "import torchvision\n",
    "from torch.utils.data import TensorDataset, DataLoader\n",
    "from torchvision.utils import save_image\n",
    "\n",
    "from model import *\n",
    "from datasets import *\n"
   ]
  },
  {
   "cell_type": "code",
   "execution_count": null,
   "id": "a98989d6-5495-4ba6-bfef-0daac3b38909",
   "metadata": {},
   "outputs": [],
   "source": []
  },
  {
   "cell_type": "code",
   "execution_count": 2,
   "id": "34a05e6c-8e4a-40de-8569-ecf733e625e3",
   "metadata": {},
   "outputs": [],
   "source": [
    "# def process_data(dataname='carl',view=0,Del=0.1,fold=0):\n",
    "    \n",
    "#     data=io.loadmat(f\"./data/carl.mat\")\n",
    "#     #folds=io.loadmat(f\"./data/carl_del_{Del}.mat\")['folds']\n",
    "#     X=data['X']\n",
    "#     x=rearrange(torch.tensor(X[0,view]/255), '(n i) (h w) -> n i h w', i=1,h=145,w=100).float()\n",
    "\n",
    "#     dataset=TensorDataset(x)\n",
    "#     dataloader = DataLoader(dataset, batch_size=64, shuffle=False, num_workers=8, pin_memory=True)\n",
    "#     return dataloader"
   ]
  },
  {
   "cell_type": "code",
   "execution_count": 3,
   "id": "15096d2f-c835-4053-80c2-c5664fec4060",
   "metadata": {},
   "outputs": [],
   "source": [
    "device=\"cuda\" if torch.cuda.is_available() else \"cpu\"\n",
    "dataname='carl'\n",
    "view=0\n",
    "Del=0.1\n",
    "fold=0\n",
    "# dataloader=process_data(dataname=dataname,view=0,Del=0.1,fold=0)"
   ]
  },
  {
   "cell_type": "code",
   "execution_count": 4,
   "id": "157727b5-4977-4428-b8c2-1d919410052a",
   "metadata": {},
   "outputs": [],
   "source": [
    "# 加载自编码器\n",
    "n_feat=64\n",
    "arch=[[2,2],[3,2],[5,5],[5,5]]\n",
    "AE=[]\n",
    "for view in [0,1,2]:\n",
    "    AE.append(AE2d(in_channels=1,n_feat=n_feat,arch=arch))\n",
    "    AE[view]=AE[view].to(device)\n",
    "    AE[view].load_state_dict(torch.load(f\"./models/AE_{dataname}_view{view}_del{Del}_fold{fold}_ep100.pth\",map_location=device))\n"
   ]
  },
  {
   "cell_type": "code",
   "execution_count": 5,
   "id": "6d1b5b62-5f2f-427b-b59b-cb61ac6346d8",
   "metadata": {},
   "outputs": [],
   "source": [
    "# 家在diffusion\n",
    "n_T=1000\n",
    "betas=(1e-6, 2e-2)\n",
    "pairedrate=0.1\n",
    "drop_prob=0.1\n",
    "ddpm=[]\n",
    "\n",
    "configs={}\n",
    "configs['arch']=[4,4,4,8]\n",
    "configs['dim_x']=512\n",
    "configs['dim_c']=1024\n",
    "for view in [0,1,2]:\n",
    "    ddpm.append(DDPM(\n",
    "        nn_model=UNet(in_channels=1, n_feat=n_feat, feature_dim=configs['dim_c'], arch=configs['arch']),\n",
    "        betas=betas, n_T=n_T, device=device, drop_prob=drop_prob\n",
    "        ))\n",
    "    ddpm[view]=ddpm[view].to(device)\n",
    "    ddpm[view].load_state_dict(torch.load(f\"./models/ddpm_{dataname}_view{view}_pairedrate{pairedrate}_fold{fold}_ep1000.pth\",map_location=device))"
   ]
  },
  {
   "cell_type": "code",
   "execution_count": 6,
   "id": "b7e15a71-5009-4111-a552-01816a366c30",
   "metadata": {},
   "outputs": [],
   "source": [
    "from PIL import Image\n",
    "# 加载数据\n",
    "img_classic=[]\n",
    "img_infrared=[]\n",
    "img_thermal=[]\n",
    "for i in [30,181,375]:\n",
    "    image = Image.open(f'./data/classic/{i}.png')\n",
    "    array = np.array(image).reshape(1,1,145,100)\n",
    "    tensor = torch.tensor(array)/255\n",
    "    img_classic.append(tensor)\n",
    "    image = Image.open(f'./data/infrared/{i}.png')\n",
    "    array = np.array(image).reshape(1,1,145,100)\n",
    "    tensor = torch.tensor(array)/255\n",
    "    img_infrared.append(tensor)\n",
    "    image = Image.open(f'./data/thermal/{i}.png')\n",
    "    array = np.array(image).reshape(1,1,145,100)\n",
    "    tensor = torch.tensor(array)/255\n",
    "    img_thermal.append(tensor)\n"
   ]
  },
  {
   "cell_type": "code",
   "execution_count": 7,
   "id": "73765644-bfc0-4259-981b-0d9e3a25ed4b",
   "metadata": {},
   "outputs": [],
   "source": [
    "## AE 提特征\n",
    "z_classic=[]\n",
    "z_infrared=[]\n",
    "z_thermal=[]\n",
    "with torch.no_grad():\n",
    "    for i in range(len(img_classic)):\n",
    "        x=img_classic[i].to(device)\n",
    "        x=torch.nn.functional.pad(x,pad=[0,0,2,3],mode='constant',value=0)\n",
    "        z = AE[0].forward_z(x)\n",
    "        z_classic.append(z.reshape([-1,512]))\n",
    "\n",
    "        x=img_infrared[i].to(device)\n",
    "        x=torch.nn.functional.pad(x,pad=[0,0,2,3],mode='constant',value=0)\n",
    "        z = AE[1].forward_z(x)\n",
    "        z_infrared.append(z.reshape([-1,512]))\n",
    "\n",
    "        x=img_thermal[i].to(device)\n",
    "        x=torch.nn.functional.pad(x,pad=[0,0,2,3],mode='constant',value=0)\n",
    "        z = AE[2].forward_z(x)\n",
    "        z_thermal.append(z.reshape([-1,512]))"
   ]
  },
  {
   "cell_type": "code",
   "execution_count": 8,
   "id": "792e0b23-fdff-4400-88ac-eabdb4854369",
   "metadata": {},
   "outputs": [
    {
     "name": "stdout",
     "output_type": "stream",
     "text": [
      "sampling timestep 1000"
     ]
    }
   ],
   "source": [
    "## diffusion\n",
    "\n",
    "with torch.no_grad():\n",
    "    ## infrared+thermal====>>classic\n",
    "    c=torch.cat([z_infrared[0].reshape(1,-1,1),z_thermal[0].reshape(1,-1,1)],dim=-2)\n",
    "    recover_z_classic=ddpm[0].ddpm_sample(c=c, n_sample=1, size=[1,configs['dim_x']], device=device, guide_w=1.0)\n",
    "    ## classic+thermal====>>infrared\n",
    "    c=torch.cat([z_classic[1].reshape(1,-1,1),z_thermal[1].reshape(1,-1,1)],dim=-2)\n",
    "    recover_z_infrared=ddpm[1].ddpm_sample(c=c, n_sample=1, size=[1,configs['dim_x']], device=device, guide_w=1.0)\n",
    "    ## classic+infrared====>>thermal\n",
    "    c=torch.cat([z_classic[2].reshape(1,-1,1),z_infrared[2].reshape(1,-1,1)],dim=-2)\n",
    "    recover_z_thermal=ddpm[2].ddpm_sample(c=c, n_sample=1, size=[1,configs['dim_x']], device=device, guide_w=1.0)\n",
    "    \n"
   ]
  },
  {
   "cell_type": "code",
   "execution_count": 9,
   "id": "81bd4252-fab8-43b6-a672-84489d7aef74",
   "metadata": {},
   "outputs": [],
   "source": [
    "## AE解码\n",
    "with torch.no_grad():\n",
    "    recover_classic = AE[0].forward_x_rec(recover_z_classic.reshape(1,-1,1,1))[:,:,2:-3,:].cpu()\n",
    "    recover_infrared = AE[1].forward_x_rec(recover_z_infrared.reshape(1,-1,1,1))[:,:,2:-3,:].cpu()\n",
    "    recover_thermal = AE[2].forward_x_rec(recover_z_thermal.reshape(1,-1,1,1))[:,:,2:-3,:].cpu()\n",
    "    "
   ]
  },
  {
   "cell_type": "code",
   "execution_count": 10,
   "id": "8e8fa023-d1d8-433c-9810-8a6f3f986058",
   "metadata": {},
   "outputs": [],
   "source": [
    "\n",
    "array = np.array(recover_classic.reshape(145,100))*255\n",
    "array = array.astype(np.uint8)\n",
    "image = Image.fromarray(array)\n",
    "image.save('demo_classic.png')\n",
    "array = np.array(recover_infrared.reshape(145,100))*255\n",
    "array = array.astype(np.uint8)\n",
    "image = Image.fromarray(array)\n",
    "image.save('demo_infrared.png')\n",
    "array = np.array(recover_thermal.reshape(145,100))*255\n",
    "array = array.astype(np.uint8)\n",
    "image = Image.fromarray(array)\n",
    "image.save('demo_thermal.png')\n"
   ]
  },
  {
   "cell_type": "code",
   "execution_count": null,
   "id": "38ba81d0-5192-4d5d-9ee2-1d9975aeeaa1",
   "metadata": {},
   "outputs": [],
   "source": []
  }
 ],
 "metadata": {
  "kernelspec": {
   "display_name": "Python 3 (ipykernel)",
   "language": "python",
   "name": "python3"
  },
  "language_info": {
   "codemirror_mode": {
    "name": "ipython",
    "version": 3
   },
   "file_extension": ".py",
   "mimetype": "text/x-python",
   "name": "python",
   "nbconvert_exporter": "python",
   "pygments_lexer": "ipython3",
   "version": "3.12.3"
  }
 },
 "nbformat": 4,
 "nbformat_minor": 5
}
